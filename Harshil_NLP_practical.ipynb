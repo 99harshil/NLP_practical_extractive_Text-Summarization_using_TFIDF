{
  "nbformat": 4,
  "nbformat_minor": 0,
  "metadata": {
    "colab": {
      "name": "Harshil_NLP_practical.ipynb",
      "provenance": []
    },
    "kernelspec": {
      "name": "python3",
      "display_name": "Python 3"
    }
  },
  "cells": [
    {
      "cell_type": "code",
      "metadata": {
        "colab": {
          "base_uri": "https://localhost:8080/"
        },
        "id": "4tthcX135LOx",
        "outputId": "fc29b958-11cb-4cb6-8681-324e49bc058a"
      },
      "source": [
        "import nltk\r\n",
        "import os\r\n",
        "import re\r\n",
        "import math\r\n",
        "import operator\r\n",
        "from nltk.stem import WordNetLemmatizer\r\n",
        "from nltk.corpus import stopwords\r\n",
        "from nltk.tokenize import sent_tokenize,word_tokenize\r\n",
        "nltk.download('averaged_perceptron_tagger')\r\n",
        "nltk.download('wordnet')\r\n",
        "Stopwords = set(stopwords.words('english'))\r\n",
        "wordlemmatizer = WordNetLemmatizer()"
      ],
      "execution_count": null,
      "outputs": [
        {
          "output_type": "stream",
          "text": [
            "[nltk_data] Downloading package averaged_perceptron_tagger to\n",
            "[nltk_data]     /root/nltk_data...\n",
            "[nltk_data]   Package averaged_perceptron_tagger is already up-to-\n",
            "[nltk_data]       date!\n",
            "[nltk_data] Downloading package wordnet to /root/nltk_data...\n",
            "[nltk_data]   Package wordnet is already up-to-date!\n"
          ],
          "name": "stdout"
        }
      ]
    },
    {
      "cell_type": "code",
      "metadata": {
        "id": "WGQ5NlhL-JyT"
      },
      "source": [
        "def lemmatize_words(words):\r\n",
        "    lemmatized_words = []\r\n",
        "    for word in words:\r\n",
        "       lemmatized_words.append(wordlemmatizer.lemmatize(word))\r\n",
        "    return lemmatized_words\r\n",
        "def stem_words(words):\r\n",
        "    stemmed_words = []\r\n",
        "    for word in words:\r\n",
        "       stemmed_words.append(stemmer.stem(word))\r\n",
        "    return stemmed_words\r\n",
        "def remove_special_characters(text):\r\n",
        "    regex = r'[^a-zA-Z0-9\\s]'\r\n",
        "    text = re.sub(regex,'',text)\r\n",
        "    return text\r\n",
        "def freq(words):\r\n",
        "    words = [word.lower() for word in words]\r\n",
        "    dict_freq = {}\r\n",
        "    words_unique = []\r\n",
        "    for word in words:\r\n",
        "       if word not in words_unique:\r\n",
        "           words_unique.append(word)\r\n",
        "    for word in words_unique:\r\n",
        "       dict_freq[word] = words.count(word)\r\n",
        "    return dict_freq\r\n",
        "def pos_tagging(text):\r\n",
        "    pos_tag = nltk.pos_tag(text.split())\r\n",
        "    pos_tagged_noun_verb = []\r\n",
        "    for word,tag in pos_tag:\r\n",
        "        if tag == \"NN\" or tag == \"NNP\" or tag == \"NNS\" or tag == \"VB\" or tag == \"VBD\" or tag == \"VBG\" or tag == \"VBN\" or tag == \"VBP\" or tag == \"VBZ\":\r\n",
        "             pos_tagged_noun_verb.append(word)\r\n",
        "    return pos_tagged_noun_verb\r\n",
        "def tf_score(word,sentence):\r\n",
        "    freq_sum = 0\r\n",
        "    word_frequency_in_sentence = 0\r\n",
        "    len_sentence = len(sentence)\r\n",
        "    for word_in_sentence in sentence.split():\r\n",
        "        if word == word_in_sentence:\r\n",
        "            word_frequency_in_sentence = word_frequency_in_sentence + 1\r\n",
        "    tf =  word_frequency_in_sentence/ len_sentence\r\n",
        "    return tf\r\n",
        "def idf_score(no_of_sentences,word,sentences):\r\n",
        "    no_of_sentence_containing_word = 0\r\n",
        "    for sentence in sentences:\r\n",
        "        sentence = remove_special_characters(str(sentence))\r\n",
        "        sentence = re.sub(r'\\d+', '', sentence)\r\n",
        "        sentence = sentence.split()\r\n",
        "        sentence = [word for word in sentence if word.lower() not in Stopwords and len(word)>1]\r\n",
        "        sentence = [word.lower() for word in sentence]\r\n",
        "        sentence = [wordlemmatizer.lemmatize(word) for word in sentence]\r\n",
        "        if word in sentence:\r\n",
        "            no_of_sentence_containing_word = no_of_sentence_containing_word + 1\r\n",
        "    idf = math.log10(no_of_sentences/no_of_sentence_containing_word)\r\n",
        "    return idf\r\n",
        "def tf_idf_score(tf,idf):\r\n",
        "    return tf*idf\r\n",
        "def word_tfidf(dict_freq,word,sentences,sentence):\r\n",
        "    word_tfidf = []\r\n",
        "    tf = tf_score(word,sentence)\r\n",
        "    idf = idf_score(len(sentences),word,sentences)\r\n",
        "    tf_idf = tf_idf_score(tf,idf)\r\n",
        "    return tf_idf\r\n",
        "def sentence_importance(sentence,dict_freq,sentences):\r\n",
        "     sentence_score = 0\r\n",
        "     sentence = remove_special_characters(str(sentence)) \r\n",
        "     sentence = re.sub(r'\\d+', '', sentence)\r\n",
        "     pos_tagged_sentence = [] \r\n",
        "     no_of_sentences = len(sentences)\r\n",
        "     pos_tagged_sentence = pos_tagging(sentence)\r\n",
        "     for word in pos_tagged_sentence:\r\n",
        "          if word.lower() not in Stopwords and word not in Stopwords and len(word)>1: \r\n",
        "                word = word.lower()\r\n",
        "                word = wordlemmatizer.lemmatize(word)\r\n",
        "                sentence_score = sentence_score + word_tfidf(dict_freq,word,sentences,sentence)\r\n",
        "     return sentence_score\r\n"
      ],
      "execution_count": null,
      "outputs": []
    },
    {
      "cell_type": "code",
      "metadata": {
        "colab": {
          "resources": {
            "http://localhost:8080/nbextensions/google.colab/files.js": {
              "data": "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",
              "ok": true,
              "headers": [
                [
                  "content-type",
                  "application/javascript"
                ]
              ],
              "status": 200,
              "status_text": ""
            }
          },
          "base_uri": "https://localhost:8080/",
          "height": 72
        },
        "id": "V7BuwMsJEaCX",
        "outputId": "8f39d29e-1d80-4f75-afb6-562f045c39c0"
      },
      "source": [
        "from google.colab import files\r\n",
        "uploaded = files.upload()"
      ],
      "execution_count": null,
      "outputs": [
        {
          "output_type": "display_data",
          "data": {
            "text/html": [
              "\n",
              "     <input type=\"file\" id=\"files-0e6c4ccb-99ea-4475-a858-dc5ec0de85b1\" name=\"files[]\" multiple disabled\n",
              "        style=\"border:none\" />\n",
              "     <output id=\"result-0e6c4ccb-99ea-4475-a858-dc5ec0de85b1\">\n",
              "      Upload widget is only available when the cell has been executed in the\n",
              "      current browser session. Please rerun this cell to enable.\n",
              "      </output>\n",
              "      <script src=\"/nbextensions/google.colab/files.js\"></script> "
            ],
            "text/plain": [
              "<IPython.core.display.HTML object>"
            ]
          },
          "metadata": {
            "tags": []
          }
        },
        {
          "output_type": "stream",
          "text": [
            "Saving sample.txt to sample (1).txt\n"
          ],
          "name": "stdout"
        }
      ]
    },
    {
      "cell_type": "code",
      "metadata": {
        "id": "uN_QNeb4FOaO"
      },
      "source": [
        "file_name = \"sample.txt\"\r\n",
        "uploaded[file_name].decode(\"utf-8\")\r\n",
        "file = open(file_name , 'r')\r\n",
        "text = file.read()"
      ],
      "execution_count": null,
      "outputs": []
    },
    {
      "cell_type": "code",
      "metadata": {
        "colab": {
          "base_uri": "https://localhost:8080/",
          "height": 137
        },
        "id": "_URkBFWpFcp8",
        "outputId": "77ef76a1-5976-4b60-9e62-733a4af01348"
      },
      "source": [
        "text"
      ],
      "execution_count": null,
      "outputs": [
        {
          "output_type": "execute_result",
          "data": {
            "application/vnd.google.colaboratory.intrinsic+json": {
              "type": "string"
            },
            "text/plain": [
              "'Health care  is a profound sector with a wide scope of indeterminate   improvement.  Health  not   only  depicts   the   presence or absence of a disease, but it is also a measure of a person’s overall well-being. Health delineates the maladies as well as proper functioning of a human across multiple domains making health care a crucial domain for computer science. Healthy living is clearly one of human beings’ most important goals and health is among the basic abilities that make human life worthwhile. One of the majorareas of concern in health care is diabetes and its detection. With more and more people leading a sedentary lifestyle and poor dietary habits, diabetes has become a common dread. However, it caalso be caused due to genetics factor. Diabetes is an ailment in which glucose levels increase in at high rates in blood due to body’s inability to metabolize it. This happens when body does not produce sufficient amount of insulin or it does not respond to it properly. This condition is known as hyperglycemia. It is incurable and the only way to deal with this disease is by controlling it. With increasing number of diabetic patients, its early detection becomes essential. Researchers believe that the data related to diabetes can help in its early detection and it can also convey that how likely someone is to get diabetes in future. There have been major breakthroughs in the field of health care owing to newer technologies used in this sector. One of these technologies is Machine Learning. Machine Learning is one of the most propitious tool to refine the existing technologies in this era which is evidently moving towards a fourth industrial revolution, aiding expertise like IOT, automation, artificial intelligence, data mining, neural  networks  and  many  more.4'"
            ]
          },
          "metadata": {
            "tags": []
          },
          "execution_count": 75
        }
      ]
    },
    {
      "cell_type": "code",
      "metadata": {
        "colab": {
          "base_uri": "https://localhost:8080/"
        },
        "id": "_YchRP2V-R4i",
        "outputId": "632fae57-931d-47ca-f157-e2e7db29664c"
      },
      "source": [
        "tokenized_sentence = sent_tokenize(text)\r\n",
        "text = remove_special_characters(str(text))\r\n",
        "text = re.sub(r'\\d+', '', text)\r\n",
        "tokenized_words_with_stopwords = word_tokenize(text)\r\n",
        "tokenized_words = [word for word in tokenized_words_with_stopwords if word not in Stopwords]\r\n",
        "tokenized_words = [word for word in tokenized_words if len(word) > 1]\r\n",
        "tokenized_words = [word.lower() for word in tokenized_words]\r\n",
        "tokenized_words = lemmatize_words(tokenized_words)\r\n",
        "word_freq = freq(tokenized_words)\r\n",
        "input_user = int(input('Percentage of information to retain(in percent):'))\r\n",
        "no_of_sentences = int((input_user * len(tokenized_sentence))/100)\r\n",
        "print(no_of_sentences)\r\n",
        "c = 1\r\n",
        "sentence_with_importance = {}\r\n",
        "for sent in tokenized_sentence:\r\n",
        "    sentenceimp = sentence_importance(sent,word_freq,tokenized_sentence)\r\n",
        "    sentence_with_importance[c] = sentenceimp\r\n",
        "    c = c+1\r\n",
        "sentence_with_importance = sorted(sentence_with_importance.items(), key=operator.itemgetter(1),reverse=True)\r\n",
        "cnt = 0\r\n",
        "summary = []\r\n",
        "sentence_no = []\r\n",
        "for word_prob in sentence_with_importance:\r\n",
        "    if cnt < no_of_sentences:\r\n",
        "        sentence_no.append(word_prob[0])\r\n",
        "        cnt = cnt+1\r\n",
        "    else:\r\n",
        "      break\r\n",
        "sentence_no.sort()\r\n",
        "cnt = 1\r\n",
        "for sentence in tokenized_sentence:\r\n",
        "    if cnt in sentence_no:\r\n",
        "       summary.append(sentence)\r\n",
        "    cnt = cnt+1\r\n",
        "summary = \" \".join(summary)\r\n",
        "print(\"\\n\")\r\n",
        "print(\"Summary:\")\r\n",
        "print(summary)\r\n",
        "outF = open('summary.txt',\"w\")\r\n",
        "outF.write(summary)"
      ],
      "execution_count": null,
      "outputs": [
        {
          "output_type": "stream",
          "text": [
            "Percentage of information to retain(in percent):100\n",
            "16\n",
            "\n",
            "\n",
            "Summary:\n",
            "Health care  is a profound sector with a wide scope of indeterminate   improvement. Health  not   only  depicts   the   presence or absence of a disease, but it is also a measure of a person’s overall well-being. Health delineates the maladies as well as proper functioning of a human across multiple domains making health care a crucial domain for computer science. Healthy living is clearly one of human beings’ most important goals and health is among the basic abilities that make human life worthwhile. One of the majorareas of concern in health care is diabetes and its detection. With more and more people leading a sedentary lifestyle and poor dietary habits, diabetes has become a common dread. However, it caalso be caused due to genetics factor. Diabetes is an ailment in which glucose levels increase in at high rates in blood due to body’s inability to metabolize it. This happens when body does not produce sufficient amount of insulin or it does not respond to it properly. This condition is known as hyperglycemia. It is incurable and the only way to deal with this disease is by controlling it. With increasing number of diabetic patients, its early detection becomes essential. Researchers believe that the data related to diabetes can help in its early detection and it can also convey that how likely someone is to get diabetes in future. There have been major breakthroughs in the field of health care owing to newer technologies used in this sector. One of these technologies is Machine Learning. Machine Learning is one of the most propitious tool to refine the existing technologies in this era which is evidently moving towards a fourth industrial revolution, aiding expertise like IOT, automation, artificial intelligence, data mining, neural  networks  and  many  more.4\n"
          ],
          "name": "stdout"
        },
        {
          "output_type": "execute_result",
          "data": {
            "text/plain": [
              "1797"
            ]
          },
          "metadata": {
            "tags": []
          },
          "execution_count": 76
        }
      ]
    }
  ]
}